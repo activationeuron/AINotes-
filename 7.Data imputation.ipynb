{
 "cells": [
  {
   "cell_type": "markdown",
   "metadata": {},
   "source": [
    "## Data Impuatation"
   ]
  },
  {
   "cell_type": "markdown",
   "metadata": {},
   "source": [
    "##### In real life, we often have to deal with data that contains missing values. Sometimes, if the dataset is missing too many values, we just don't use it. However, if only a few of the values are missing, we can perform data imputation to substitute the missing data with some other value(s).\n",
    "\n",
    "There are many different methods for data imputation. In scikit-learn, the SimpleImputer transformer performs four different data imputation methods.\n",
    "\n",
    "### The four methods are:\n",
    "1. Using the mean value\n",
    "2. Using the median value\n",
    "3. Using the most frequent value\n",
    "4. Filling in missing values with a constant\n",
    "\n",
    "The code below shows how to perform data imputation using mean values from each column"
   ]
  },
  {
   "cell_type": "code",
   "execution_count": 2,
   "metadata": {},
   "outputs": [],
   "source": [
    "import numpy as np"
   ]
  },
  {
   "cell_type": "code",
   "execution_count": 3,
   "metadata": {},
   "outputs": [],
   "source": [
    "from sklearn.impute import SimpleImputer"
   ]
  },
  {
   "cell_type": "code",
   "execution_count": 4,
   "metadata": {},
   "outputs": [],
   "source": [
    "imp_mean=SimpleImputer()"
   ]
  },
  {
   "cell_type": "code",
   "execution_count": 9,
   "metadata": {},
   "outputs": [],
   "source": [
    "arr=np.array([[ 1.,  2., np.nan,  2.],\n",
    "       [ 5., np.nan,  1.,  2.],\n",
    "       [ 4., np.nan,  3., np.nan],\n",
    "       [ 5.,  6.,  8.,  1.],\n",
    "       [np.nan,  7., np.nan,  0.]])"
   ]
  },
  {
   "cell_type": "code",
   "execution_count": 11,
   "metadata": {},
   "outputs": [],
   "source": [
    "transform=imp_mean.fit_transform(arr)"
   ]
  },
  {
   "cell_type": "code",
   "execution_count": 12,
   "metadata": {},
   "outputs": [
    {
     "data": {
      "text/plain": [
       "array([[1.  , 2.  , 4.  , 2.  ],\n",
       "       [5.  , 5.  , 1.  , 2.  ],\n",
       "       [4.  , 5.  , 3.  , 1.25],\n",
       "       [5.  , 6.  , 8.  , 1.  ],\n",
       "       [3.75, 7.  , 4.  , 0.  ]])"
      ]
     },
     "execution_count": 12,
     "metadata": {},
     "output_type": "execute_result"
    }
   ],
   "source": [
    "transform"
   ]
  },
  {
   "cell_type": "markdown",
   "metadata": {},
   "source": [
    "\n",
    "#### The default imputation method for SimpleImputer is using the **column means**. By using the **strategy** keyword argument when initializing a **SimpleImputer object**, we can specify a different imputation method."
   ]
  },
  {
   "cell_type": "code",
   "execution_count": 13,
   "metadata": {},
   "outputs": [],
   "source": [
    "arr=np.array([[ 1.,  2., np.nan,  2.],\n",
    "       [ 5., np.nan,  1.,  2.],\n",
    "       [ 4., np.nan,  3., np.nan],\n",
    "       [ 5.,  6.,  8.,  1.],\n",
    "       [np.nan,  7., np.nan,  0.]])"
   ]
  },
  {
   "cell_type": "code",
   "execution_count": 15,
   "metadata": {},
   "outputs": [],
   "source": [
    "imp_median=SimpleImputer(strategy=\"median\")"
   ]
  },
  {
   "cell_type": "code",
   "execution_count": 16,
   "metadata": {},
   "outputs": [
    {
     "data": {
      "text/plain": [
       "array([[1. , 2. , 3. , 2. ],\n",
       "       [5. , 6. , 1. , 2. ],\n",
       "       [4. , 6. , 3. , 1.5],\n",
       "       [5. , 6. , 8. , 1. ],\n",
       "       [4.5, 7. , 3. , 0. ]])"
      ]
     },
     "execution_count": 16,
     "metadata": {},
     "output_type": "execute_result"
    }
   ],
   "source": [
    "imp_median.fit_transform(arr)"
   ]
  },
  {
   "cell_type": "code",
   "execution_count": 17,
   "metadata": {},
   "outputs": [],
   "source": [
    "from sklearn.impute import SimpleImputer"
   ]
  },
  {
   "cell_type": "code",
   "execution_count": 18,
   "metadata": {},
   "outputs": [],
   "source": [
    "imp_constant=SimpleImputer(strategy='constant',fill_value=-1)"
   ]
  },
  {
   "cell_type": "code",
   "execution_count": 19,
   "metadata": {},
   "outputs": [
    {
     "data": {
      "text/plain": [
       "array([[ 1.,  2., -1.,  2.],\n",
       "       [ 5., -1.,  1.,  2.],\n",
       "       [ 4., -1.,  3., -1.],\n",
       "       [ 5.,  6.,  8.,  1.],\n",
       "       [-1.,  7., -1.,  0.]])"
      ]
     },
     "execution_count": 19,
     "metadata": {},
     "output_type": "execute_result"
    }
   ],
   "source": [
    "imp_constant.fit_transform(arr)"
   ]
  },
  {
   "cell_type": "code",
   "execution_count": null,
   "metadata": {},
   "outputs": [],
   "source": [
    "\n"
   ]
  }
 ],
 "metadata": {
  "kernelspec": {
   "display_name": "Python 3",
   "language": "python",
   "name": "python3"
  },
  "language_info": {
   "codemirror_mode": {
    "name": "ipython",
    "version": 3
   },
   "file_extension": ".py",
   "mimetype": "text/x-python",
   "name": "python",
   "nbconvert_exporter": "python",
   "pygments_lexer": "ipython3",
   "version": "3.7.4"
  }
 },
 "nbformat": 4,
 "nbformat_minor": 4
}
