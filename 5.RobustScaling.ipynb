{
 "cells": [
  {
   "cell_type": "markdown",
   "metadata": {},
   "source": [
    "### Robust scaling"
   ]
  },
  {
   "cell_type": "markdown",
   "metadata": {},
   "source": [
    "\n",
    "Understanding how outliers effect the data and implement robust scaling"
   ]
  },
  {
   "cell_type": "markdown",
   "metadata": {},
   "source": [
    "A. Data Outliers"
   ]
  },
  {
   "cell_type": "markdown",
   "metadata": {},
   "source": [
    "#### previous two chapters ([standarization](./3.Standardiztion.ipynb)) and ([DataRange](./4.dataRange.ipynb)) are both affected by outliers. Data standardization uses each feature's **mean** and **standard deviation**, while ranged scaling uses the **maximum** and **minimum** feature values, meaning that they're both susceptible to being skewed by outlier values."
   ]
  },
  {
   "cell_type": "markdown",
   "metadata": {},
   "source": [
    "#### We can robustly scale the data, i.e. avoid being affected by outliers, by using use the data's median and **Interquartile Range (IQR)** . Since the **median and IQR** are **percentile measurements** of the data **(50% for median, 25% to 75% for the IQR)**, they are not affected by outliers. For the scaling method, we just subtract the median from each data value then scale to the IQR."
   ]
  },
  {
   "cell_type": "code",
   "execution_count": 2,
   "metadata": {},
   "outputs": [],
   "source": [
    "import numpy as np"
   ]
  },
  {
   "cell_type": "code",
   "execution_count": 6,
   "metadata": {},
   "outputs": [],
   "source": [
    "arr=np.array([[ 1.2,  2.3],\n",
    "       [ 2.1,  4.2],\n",
    "       [-1.9,  3.1],\n",
    "       [-2.5,  2.5],\n",
    "       [ 0.8,  3. ],\n",
    "       [ 6.3,  2.1],\n",
    "       [-1.5,  2.7],\n",
    "       [ 1.4,  2.9],\n",
    "       [ 1.8,  3.2]])"
   ]
  },
  {
   "cell_type": "code",
   "execution_count": 7,
   "metadata": {},
   "outputs": [],
   "source": [
    "from sklearn.preprocessing import RobustScaler"
   ]
  },
  {
   "cell_type": "code",
   "execution_count": 8,
   "metadata": {},
   "outputs": [],
   "source": [
    "robust_scaling=RobustScaler()"
   ]
  },
  {
   "cell_type": "code",
   "execution_count": 9,
   "metadata": {},
   "outputs": [
    {
     "data": {
      "text/plain": [
       "array([[ 0.        , -1.        ],\n",
       "       [ 0.27272727,  2.16666667],\n",
       "       [-0.93939394,  0.33333333],\n",
       "       [-1.12121212, -0.66666667],\n",
       "       [-0.12121212,  0.16666667],\n",
       "       [ 1.54545455, -1.33333333],\n",
       "       [-0.81818182, -0.33333333],\n",
       "       [ 0.06060606,  0.        ],\n",
       "       [ 0.18181818,  0.5       ]])"
      ]
     },
     "execution_count": 9,
     "metadata": {},
     "output_type": "execute_result"
    }
   ],
   "source": [
    "robust_scaling.fit_transform(arr)"
   ]
  },
  {
   "cell_type": "code",
   "execution_count": null,
   "metadata": {},
   "outputs": [],
   "source": []
  }
 ],
 "metadata": {
  "kernelspec": {
   "display_name": "Python 3",
   "language": "python",
   "name": "python3"
  },
  "language_info": {
   "codemirror_mode": {
    "name": "ipython",
    "version": 3
   },
   "file_extension": ".py",
   "mimetype": "text/x-python",
   "name": "python",
   "nbconvert_exporter": "python",
   "pygments_lexer": "ipython3",
   "version": "3.7.4"
  }
 },
 "nbformat": 4,
 "nbformat_minor": 4
}
